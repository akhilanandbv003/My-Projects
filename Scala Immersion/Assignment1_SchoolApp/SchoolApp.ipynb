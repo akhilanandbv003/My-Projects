{
 "cells": [
  {
   "cell_type": "code",
   "execution_count": 2,
   "metadata": {
    "collapsed": false
   },
   "outputs": [
    {
     "data": {
      "text/plain": [
       "\u001b[32mimport \u001b[39m\u001b[36mscala.collection.mutable\r\n",
       "\u001b[39m\r\n",
       "\u001b[32mimport \u001b[39m\u001b[36mscala.collection.mutable._\r\n",
       "\u001b[39m\r\n",
       "\u001b[32mimport \u001b[39m\u001b[36mscala.io.StdIn._\u001b[39m"
      ]
     },
     "execution_count": 2,
     "metadata": {},
     "output_type": "execute_result"
    }
   ],
   "source": [
    "import scala.collection.mutable\n",
    "import scala.collection.mutable._\n",
    "import scala.io.StdIn._"
   ]
  },
  {
   "cell_type": "code",
   "execution_count": 3,
   "metadata": {
    "collapsed": false
   },
   "outputs": [
    {
     "data": {
      "text/plain": [
       "\u001b[36mcourses\u001b[39m: \u001b[32mHashSet\u001b[39m[\u001b[32mString\u001b[39m] = \u001b[33mSet\u001b[39m(\u001b[32m\"CS101\"\u001b[39m, \u001b[32m\"CS401\"\u001b[39m, \u001b[32m\"CS201\"\u001b[39m, \u001b[32m\"CS430\"\u001b[39m)\r\n",
       "\u001b[36mstudents\u001b[39m: \u001b[32mHashSet\u001b[39m[\u001b[32mString\u001b[39m] = \u001b[33mSet\u001b[39m()\r\n",
       "\u001b[36menrollment\u001b[39m: \u001b[32mHashMap\u001b[39m[\u001b[32mString\u001b[39m, \u001b[32mArrayBuffer\u001b[39m[\u001b[32mString\u001b[39m]] = \u001b[33mMap\u001b[39m()"
      ]
     },
     "execution_count": 3,
     "metadata": {},
     "output_type": "execute_result"
    }
   ],
   "source": [
    "var courses: HashSet[String] = HashSet[String](\"CS101\",\"CS201\",\"CS401\",\"CS430\")\n",
    "//   var students: HashSet[String] =  HashSet[String](\"Akhil\")\n",
    "var students: HashSet[String] =  HashSet[String]()\n",
    "var enrollment: HashMap[String, ArrayBuffer[String]] =  HashMap[String, ArrayBuffer[String]]()//{Subject:{Students}}\n"
   ]
  },
  {
   "cell_type": "code",
   "execution_count": 1,
   "metadata": {
    "collapsed": false
   },
   "outputs": [
    {
     "data": {
      "text/plain": [
       "defined \u001b[32mclass\u001b[39m \u001b[36maddClass\u001b[39m\r\n",
       "defined \u001b[32mclass\u001b[39m \u001b[36mcancelClass\u001b[39m\r\n",
       "defined \u001b[32mclass\u001b[39m \u001b[36maddStudent\u001b[39m\r\n",
       "defined \u001b[32mclass\u001b[39m \u001b[36menrollClass\u001b[39m\r\n",
       "defined \u001b[32mclass\u001b[39m \u001b[36mcancelEnrollment\u001b[39m"
      ]
     },
     "execution_count": 1,
     "metadata": {},
     "output_type": "execute_result"
    }
   ],
   "source": [
    "case class addClass(className: String) \n",
    "\n",
    "case class cancelClass(className: String)\n",
    "\n",
    "case class addStudent(studentName: String) \n",
    "\n",
    "case class enrollClass(studentName: String, className: String) \n",
    "\n",
    "case class cancelEnrollment(studentName: String, className: String)\n",
    "\n",
    " "
   ]
  },
  {
   "cell_type": "code",
   "execution_count": null,
   "metadata": {
    "collapsed": false
   },
   "outputs": [],
   "source": [
    "object eventHandler{\n",
    "    def handler(e: event): Unit ={\n",
    "        e match {\n",
    "            case addStudent(studentName: String)=> students.add(studentName)\n",
    "}\n",
    "}\n",
    "}\n"
   ]
  },
  {
   "cell_type": "code",
   "execution_count": null,
   "metadata": {
    "collapsed": false
   },
   "outputs": [],
   "source": []
  },
  {
   "cell_type": "code",
   "execution_count": null,
   "metadata": {
    "collapsed": false
   },
   "outputs": [],
   "source": []
  },
  {
   "cell_type": "code",
   "execution_count": null,
   "metadata": {
    "collapsed": false
   },
   "outputs": [],
   "source": []
  },
  {
   "cell_type": "code",
   "execution_count": 13,
   "metadata": {
    "collapsed": false
   },
   "outputs": [
    {
     "data": {
      "text/plain": [
       "\u001b[36mcourses\u001b[39m: \u001b[32mHashSet\u001b[39m[\u001b[32mString\u001b[39m] = \u001b[33mSet\u001b[39m(\u001b[32m\"CS101\"\u001b[39m, \u001b[32m\"CS401\"\u001b[39m, \u001b[32m\"CS201\"\u001b[39m, \u001b[32m\"CS430\"\u001b[39m)\r\n",
       "\u001b[36mstudents\u001b[39m: \u001b[32mHashSet\u001b[39m[\u001b[32mString\u001b[39m] = \u001b[33mSet\u001b[39m(\u001b[32m\"Akhil\"\u001b[39m)\r\n",
       "\u001b[36menrollment\u001b[39m: \u001b[32mHashMap\u001b[39m[\u001b[32mString\u001b[39m, \u001b[32mArrayBuffer\u001b[39m[\u001b[32mString\u001b[39m]] = \u001b[33mMap\u001b[39m()"
      ]
     },
     "execution_count": 13,
     "metadata": {},
     "output_type": "execute_result"
    }
   ],
   "source": []
  },
  {
   "cell_type": "code",
   "execution_count": 14,
   "metadata": {
    "collapsed": false
   },
   "outputs": [
    {
     "name": "stdout",
     "output_type": "stream",
     "text": [
      "Welcome to our school. Choose a below action\n",
      " 1.List all the courses available\n",
      " 2.List all the students\n",
      " 3.Enrollment of course\n",
      " 4.Cancellation of Enrollment of course\n",
      " 5.Cancel a class\n"
     ]
    },
    {
     "ename": "",
     "evalue": "",
     "output_type": "error",
     "traceback": [
      "\u001b[31mjava.io.EOFException: Console has reached end of input\u001b[39m\r",
      "  scala.io.StdIn$class.readInt(\u001b[32mStdIn.scala\u001b[39m:\u001b[32m108\u001b[39m)\r",
      "  scala.io.StdIn$.readInt(\u001b[32mStdIn.scala\u001b[39m:\u001b[32m229\u001b[39m)\r",
      "  $sess.cmd13Wrapper$Helper.<init>(\u001b[32mcmd13.sc\u001b[39m:\u001b[32m11\u001b[39m)\r",
      "  $sess.cmd13Wrapper.<init>(\u001b[32mcmd13.sc\u001b[39m:\u001b[32m252\u001b[39m)\r",
      "  $sess.cmd13$.<init>(\u001b[32mcmd13.sc\u001b[39m:\u001b[32m207\u001b[39m)\r",
      "  $sess.cmd13$.<clinit>(\u001b[32mcmd13.sc\u001b[39m:\u001b[32m-1\u001b[39m)"
     ]
    }
   ],
   "source": [
    "var input= 1\n",
    "while (input != 0) {\n",
    "println(\"Welcome to our school. Choose a below action\")\n",
    "println(\" 1.List all the courses available\")\n",
    "println(\" 2.List all the students\")\n",
    "println(\" 3.Enrollment of course\")\n",
    "println(\" 4.Cancellation of Enrollment of course\")\n",
    "println(\" 5.Cancel a class\")\n",
    "\n",
    "\n",
    "input = readInt()\n",
    "\n",
    "input match{\n",
    "case 0 => println(\" Exiting from the menu\")\n",
    "\n",
    "case 1 => {\n",
    "\n",
    "            println(\" 1.List all the courses available\")\n",
    "            println(enrollment)\n",
    "           }\n",
    "\n",
    "case 2 =>{\n",
    "        println(\" 2.List all the students\")\n",
    "        println(students)\n",
    "        } \n",
    "\n",
    "\n",
    "\n",
    "\n",
    "}\n",
    "}"
   ]
  },
  {
   "cell_type": "code",
   "execution_count": null,
   "metadata": {
    "collapsed": true
   },
   "outputs": [],
   "source": [
    "case 3 => println(\" 3.Enrollment of course\")\n",
    "\n",
    "\n",
    "case 4 => println(\" 4.Cancellation of Enrollment of course\")\n",
    "\n",
    "\n",
    "case 5 => println(\" 5.Cancel a class\")\n"
   ]
  }
 ],
 "metadata": {
  "kernelspec": {
   "display_name": "Scala",
   "language": "scala",
   "name": "scala"
  },
  "language_info": {
   "codemirror_mode": "text/x-scala",
   "file_extension": ".scala",
   "mimetype": "text/x-scala",
   "name": "scala211",
   "nbconvert_exporter": "script",
   "pygments_lexer": "scala",
   "version": "2.11.11"
  }
 },
 "nbformat": 4,
 "nbformat_minor": 2
}
